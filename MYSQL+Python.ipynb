{
  "nbformat": 4,
  "nbformat_minor": 0,
  "metadata": {
    "colab": {
      "name": "MYSQL+Python.ipynb",
      "provenance": [],
      "collapsed_sections": [],
      "authorship_tag": "ABX9TyMPbc+IWYjUlwHUuFXKIqxW",
      "include_colab_link": true
    },
    "kernelspec": {
      "name": "python3",
      "display_name": "Python 3"
    }
  },
  "cells": [
    {
      "cell_type": "markdown",
      "metadata": {
        "id": "view-in-github",
        "colab_type": "text"
      },
      "source": [
        "<a href=\"https://colab.research.google.com/github/janjuatest/MYSQL-Python/blob/main/MYSQL%2BPython.ipynb\" target=\"_parent\"><img src=\"https://colab.research.google.com/assets/colab-badge.svg\" alt=\"Open In Colab\"/></a>"
      ]
    },
    {
      "cell_type": "code",
      "metadata": {
        "colab": {
          "base_uri": "https://localhost:8080/"
        },
        "id": "AF6G3zu07hyd",
        "outputId": "ea8d6859-8cfe-464b-dac0-91b38b555a78"
      },
      "source": [
        "!pip install mysql.connector"
      ],
      "execution_count": 5,
      "outputs": [
        {
          "output_type": "stream",
          "text": [
            "Collecting mysql.connector\n",
            "\u001b[?25l  Downloading https://files.pythonhosted.org/packages/28/04/e40098f3730e75bbe36a338926f566ea803550a34fb50535499f4fc4787a/mysql-connector-2.2.9.tar.gz (11.9MB)\n",
            "\u001b[K     |████████████████████████████████| 11.9MB 290kB/s \n",
            "\u001b[?25hBuilding wheels for collected packages: mysql.connector\n",
            "  Building wheel for mysql.connector (setup.py) ... \u001b[?25l\u001b[?25hdone\n",
            "  Created wheel for mysql.connector: filename=mysql_connector-2.2.9-cp36-cp36m-linux_x86_64.whl size=247950 sha256=f4c217fcf125656f3eab382fe9160652d0410c8e5aef29ed55f0618ac86bec79\n",
            "  Stored in directory: /root/.cache/pip/wheels/8c/83/a1/f8b6d4bb1bd6208bbde1608bbfa7557504bed9eaf2ecf8c175\n",
            "Successfully built mysql.connector\n",
            "Installing collected packages: mysql.connector\n",
            "Successfully installed mysql.connector\n"
          ],
          "name": "stdout"
        }
      ]
    },
    {
      "cell_type": "markdown",
      "metadata": {
        "id": "Or71vyqqHfcc"
      },
      "source": [
        "Install the MYSQL Connector"
      ]
    },
    {
      "cell_type": "code",
      "metadata": {
        "id": "HJo3aSXp783Z"
      },
      "source": [
        "import pandas as pd"
      ],
      "execution_count": 6,
      "outputs": []
    },
    {
      "cell_type": "code",
      "metadata": {
        "id": "Up6QD2MW8DXE"
      },
      "source": [
        "import mysql.connector"
      ],
      "execution_count": 8,
      "outputs": []
    },
    {
      "cell_type": "markdown",
      "metadata": {
        "id": "RA4zoMgaIkDm"
      },
      "source": [
        "Import the mysql connector library"
      ]
    },
    {
      "cell_type": "code",
      "metadata": {
        "id": "besFr5CdHy4q"
      },
      "source": [
        "cnx = mysql.connector.connect(user='root', password='XXX',\r\n",
        "                              host='localhost',\r\n",
        "                              database='DATABASE')"
      ],
      "execution_count": null,
      "outputs": []
    },
    {
      "cell_type": "markdown",
      "metadata": {
        "id": "K379fTKqIvWr"
      },
      "source": [
        "This establishes the connection to the database named DATABASE on localhost\r\n",
        "using the username root and password XXX\r\n",
        "You can connect to remote host using its IP address"
      ]
    },
    {
      "cell_type": "markdown",
      "metadata": {
        "id": "8yzta9K7I_Aj"
      },
      "source": [
        "Once connection has been established"
      ]
    },
    {
      "cell_type": "code",
      "metadata": {
        "id": "wQrBlEMhJHG9"
      },
      "source": [
        "cursor = cnx.cursor()\r\n",
        "\r\n",
        "cursor.execute('SELECT * FROM bps17')"
      ],
      "execution_count": null,
      "outputs": []
    },
    {
      "cell_type": "markdown",
      "metadata": {
        "id": "cQ2-lxiYJKuL"
      },
      "source": [
        "Instantiate the cursor for MYSQL\r\n",
        "\r\n",
        "Read all the entries from the Table named \"bps17\" in the database named DATABASE"
      ]
    },
    {
      "cell_type": "code",
      "metadata": {
        "id": "sHR6y0_tJT0J"
      },
      "source": [
        "table_rows = cursor.fetchall()\r\n",
        "\r\n",
        "df = pd.DataFrame(table_rows,columns=['Organizations','Positions','ID'])\r\n",
        "\r\n",
        "cnx.close()"
      ],
      "execution_count": null,
      "outputs": []
    },
    {
      "cell_type": "markdown",
      "metadata": {
        "id": "JzdWHVESJaFD"
      },
      "source": [
        "Fetch all the rows from the table and save it in the dataframe named df\r\n",
        "Close the connection to database"
      ]
    },
    {
      "cell_type": "code",
      "metadata": {
        "id": "pNvI-CgEJgLS"
      },
      "source": [
        ""
      ],
      "execution_count": null,
      "outputs": []
    }
  ]
}